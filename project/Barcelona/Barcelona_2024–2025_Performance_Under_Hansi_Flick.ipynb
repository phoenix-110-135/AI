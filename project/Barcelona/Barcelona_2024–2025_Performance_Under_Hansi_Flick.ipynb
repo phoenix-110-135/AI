{
  "cells": [
    {
      "cell_type": "code",
      "execution_count": null,
      "metadata": {
        "id": "AacJWb69Vad7"
      },
      "outputs": [],
      "source": [
        "# IMPORTANT: RUN THIS CELL IN ORDER TO IMPORT YOUR KAGGLE DATA SOURCES,\n",
        "# THEN FEEL FREE TO DELETE THIS CELL.\n",
        "# NOTE: THIS NOTEBOOK ENVIRONMENT DIFFERS FROM KAGGLE'S PYTHON\n",
        "# ENVIRONMENT SO THERE MAY BE MISSING LIBRARIES USED BY YOUR\n",
        "# NOTEBOOK.\n",
        "import kagglehub\n",
        "dkhalidashik_2024_2025_barcelona_scores_and_fixtures_path = kagglehub.dataset_download('dkhalidashik/2024-2025-barcelona-scores-and-fixtures')\n",
        "dkhalidashik_barcelona_performane_24_25_data_path = kagglehub.dataset_download('dkhalidashik/barcelona-performane-24-25-data')\n",
        "\n",
        "print('Data source import complete.')\n"
      ]
    },
    {
      "cell_type": "markdown",
      "metadata": {
        "id": "7BPgZ5KE4LPK"
      },
      "source": [
        "# Introduction\n",
        "\n",
        "### ⚽ Barcelona 2024–2025 Performance Prediction Under Hansi Flick\n",
        "\n",
        "![Alt text](https://image.sggp.org.vn/1200x630/Uploaded/2025/cplaaht/2024_09_28/hansi-flick-barcelona-929.jpg.webp)\n",
        "\n",
        "### 📌 Project Overview\n",
        "\n",
        "This project aims to analyze and predict FC Barcelona’s match outcomes for the 2024–2025 season under new head coach Hansi Flick. Leveraging historical and upcoming match data, the notebook builds a machine learning pipeline that forecasts results based on tactical, statistical, and contextual features.\n",
        "\n",
        "The core objectives of this analysis are:\n",
        "\t•\t🔍 Analyze match-related trends such as possession, formation impact, and captaincy influence.\n",
        "\t•\t🧠 Train a classification model to predict whether Barcelona will win, lose, or draw upcoming fixtures.\n",
        "\t•\t📈 Visualize prediction confidence for each upcoming match using probabilistic outputs.\n",
        "\t•\t🧪 Evaluate model performance through accuracy, classification reports, and confusion matrices.\n",
        "\n",
        "### 🎯 Key Questions\n",
        "\t•\tWhich formations or captains are associated with higher possession?\n",
        "\t•\tCan we accurately predict future match results based on recent performance trends?\n",
        "\t•\tHow confident is the model about its predictions for upcoming fixtures?\n",
        "\n",
        "This predictive modeling approach combines traditional football analytics with data science techniques to offer insights into Barcelona’s strategy and performance trajectory under new leadership."
      ]
    },
    {
      "cell_type": "markdown",
      "metadata": {
        "id": "d2yyEMLP4LPL"
      },
      "source": [
        "# 📦 Importing Required Libraries"
      ]
    },
    {
      "cell_type": "code",
      "execution_count": null,
      "metadata": {
        "_cell_guid": "b1076dfc-b9ad-4769-8c92-a6c4dae69d19",
        "_uuid": "8f2839f25d086af736a60e9eeb907d3b93b6e0e5",
        "execution": {
          "iopub.execute_input": "2025-05-01T22:18:15.425863Z",
          "iopub.status.busy": "2025-05-01T22:18:15.425602Z",
          "iopub.status.idle": "2025-05-01T22:18:17.21755Z",
          "shell.execute_reply": "2025-05-01T22:18:17.216789Z",
          "shell.execute_reply.started": "2025-05-01T22:18:15.425842Z"
        },
        "id": "S883lGyc4LPM",
        "trusted": true
      },
      "outputs": [],
      "source": [
        "import pandas as pd\n",
        "import matplotlib.pyplot as plt\n",
        "import seaborn as sns"
      ]
    },
    {
      "cell_type": "markdown",
      "metadata": {
        "id": "iCkiLFz94LPM"
      },
      "source": [
        "# 📂 Loading and Preprocessing the Original Dataset"
      ]
    },
    {
      "cell_type": "code",
      "execution_count": null,
      "metadata": {
        "execution": {
          "iopub.execute_input": "2025-05-01T22:18:24.418246Z",
          "iopub.status.busy": "2025-05-01T22:18:24.417425Z",
          "iopub.status.idle": "2025-05-01T22:18:24.453289Z",
          "shell.execute_reply": "2025-05-01T22:18:24.452487Z",
          "shell.execute_reply.started": "2025-05-01T22:18:24.41822Z"
        },
        "id": "_p3QGPv_4LPM",
        "trusted": true
      },
      "outputs": [],
      "source": [
        "# Load the dataset\n",
        "df = pd.read_csv('/kaggle/input/barcelona-performane-24-25-data/Barcelona stats24-25.csv', delimiter=';')"
      ]
    },
    {
      "cell_type": "code",
      "execution_count": null,
      "metadata": {
        "execution": {
          "iopub.execute_input": "2025-05-01T22:18:34.466986Z",
          "iopub.status.busy": "2025-05-01T22:18:34.466335Z",
          "iopub.status.idle": "2025-05-01T22:18:34.503772Z",
          "shell.execute_reply": "2025-05-01T22:18:34.502914Z",
          "shell.execute_reply.started": "2025-05-01T22:18:34.46696Z"
        },
        "id": "yvHFYvem4LPM",
        "trusted": true
      },
      "outputs": [],
      "source": [
        "df.head()"
      ]
    },
    {
      "cell_type": "code",
      "execution_count": null,
      "metadata": {
        "execution": {
          "iopub.execute_input": "2025-05-01T22:02:47.240214Z",
          "iopub.status.busy": "2025-05-01T22:02:47.24002Z",
          "iopub.status.idle": "2025-05-01T22:02:47.255467Z",
          "shell.execute_reply": "2025-05-01T22:02:47.254956Z",
          "shell.execute_reply.started": "2025-05-01T22:02:47.240199Z"
        },
        "id": "7UVDBMhF4LPN",
        "trusted": true
      },
      "outputs": [],
      "source": [
        "df.tail()"
      ]
    },
    {
      "cell_type": "code",
      "execution_count": null,
      "metadata": {
        "execution": {
          "iopub.execute_input": "2025-05-01T22:02:47.257702Z",
          "iopub.status.busy": "2025-05-01T22:02:47.257509Z",
          "iopub.status.idle": "2025-05-01T22:02:47.263535Z",
          "shell.execute_reply": "2025-05-01T22:02:47.262919Z",
          "shell.execute_reply.started": "2025-05-01T22:02:47.257687Z"
        },
        "id": "BxTu0rKv4LPN",
        "trusted": true
      },
      "outputs": [],
      "source": [
        "df.columns"
      ]
    },
    {
      "cell_type": "code",
      "execution_count": null,
      "metadata": {
        "execution": {
          "iopub.execute_input": "2025-05-01T22:02:47.264275Z",
          "iopub.status.busy": "2025-05-01T22:02:47.264096Z",
          "iopub.status.idle": "2025-05-01T22:02:47.291605Z",
          "shell.execute_reply": "2025-05-01T22:02:47.290838Z",
          "shell.execute_reply.started": "2025-05-01T22:02:47.264259Z"
        },
        "id": "FmQrJxpy4LPN",
        "trusted": true
      },
      "outputs": [],
      "source": [
        "df.info()"
      ]
    },
    {
      "cell_type": "markdown",
      "metadata": {
        "id": "aHncoUWr4LPO"
      },
      "source": [
        "# Data cleaning and preprocessing"
      ]
    },
    {
      "cell_type": "code",
      "execution_count": null,
      "metadata": {
        "execution": {
          "iopub.execute_input": "2025-05-01T22:02:47.292533Z",
          "iopub.status.busy": "2025-05-01T22:02:47.292344Z",
          "iopub.status.idle": "2025-05-01T22:02:47.318622Z",
          "shell.execute_reply": "2025-05-01T22:02:47.318082Z",
          "shell.execute_reply.started": "2025-05-01T22:02:47.292518Z"
        },
        "id": "lwgCY0TS4LPO",
        "trusted": true
      },
      "outputs": [],
      "source": [
        "# 1. Fix column names\n",
        "df.columns = df.columns.str.strip().str.replace(' ', '').str.replace('Oponent', 'Opponent')\n",
        "\n",
        "# 2. Convert types\n",
        "df['Date'] = pd.to_datetime(df['Date'])\n",
        "df['Attendance'] = df['Attendance'].str.replace(',', '').astype(float)\n",
        "\n",
        "# 3. Create features\n",
        "df['GD'] = df['GF'] - df['GA']  # Goal Difference\n",
        "# Numerical result\n",
        "result_map = {'W': 3, 'D': 1, 'L': 0}\n",
        "df['Points'] = df['Result'].map(result_map)\n",
        "\n",
        "# 4. Split played vs upcoming\n",
        "played_df = df[df['Result'].notna()].copy()\n",
        "upcoming_df = df[df['Result'].isna()].copy()\n",
        "\n",
        "# 5. Sort by date\n",
        "played_df = played_df.sort_values('Date').reset_index(drop=True)\n",
        "upcoming_df = upcoming_df.sort_values('Date').reset_index(drop=True)"
      ]
    },
    {
      "cell_type": "code",
      "execution_count": null,
      "metadata": {
        "execution": {
          "iopub.execute_input": "2025-05-01T22:02:47.319568Z",
          "iopub.status.busy": "2025-05-01T22:02:47.319335Z",
          "iopub.status.idle": "2025-05-01T22:02:47.340934Z",
          "shell.execute_reply": "2025-05-01T22:02:47.340235Z",
          "shell.execute_reply.started": "2025-05-01T22:02:47.319551Z"
        },
        "id": "LDiz9afC4LPO",
        "trusted": true
      },
      "outputs": [],
      "source": [
        "# Check cleaned data\n",
        "print(played_df.head(3))\n",
        "print(upcoming_df.head(3))"
      ]
    },
    {
      "cell_type": "markdown",
      "metadata": {
        "id": "QIkEC2aE4LPO"
      },
      "source": [
        "# Analysis and Visualization"
      ]
    },
    {
      "cell_type": "code",
      "execution_count": null,
      "metadata": {
        "execution": {
          "iopub.execute_input": "2025-05-01T22:02:47.341898Z",
          "iopub.status.busy": "2025-05-01T22:02:47.341668Z",
          "iopub.status.idle": "2025-05-01T22:02:47.355775Z",
          "shell.execute_reply": "2025-05-01T22:02:47.355168Z",
          "shell.execute_reply.started": "2025-05-01T22:02:47.341882Z"
        },
        "id": "h-BTs3W84LPO",
        "trusted": true
      },
      "outputs": [],
      "source": [
        "# Basic numbers\n",
        "total_matches = played_df.shape[0]\n",
        "total_wins = (played_df['Result'] == 'W').sum()\n",
        "total_draws = (played_df['Result'] == 'D').sum()\n",
        "total_losses = (played_df['Result'] == 'L').sum()\n",
        "\n",
        "# Goals\n",
        "total_goals_for = played_df['GF'].sum()\n",
        "total_goals_against = played_df['GA'].sum()\n",
        "total_goal_difference = total_goals_for - total_goals_against\n",
        "\n",
        "# Points\n",
        "total_points = played_df['Points'].sum()\n",
        "points_per_match = total_points / total_matches\n",
        "\n",
        "# Display\n",
        "print(f\"Total Matches Played: {total_matches}\")\n",
        "print(f\"Wins: {total_wins}, Draws: {total_draws}, Losses: {total_losses}\")\n",
        "print(f\"Goals Scored (GF): {total_goals_for}\")\n",
        "print(f\"Goals Conceded (GA): {total_goals_against}\")\n",
        "print(f\"Goal Difference (GD): {total_goal_difference}\")\n",
        "print(f\"Total Points: {total_points}\")\n",
        "print(f\"Points per Match: {points_per_match:.2f}\")"
      ]
    },
    {
      "cell_type": "code",
      "execution_count": null,
      "metadata": {
        "execution": {
          "iopub.execute_input": "2025-05-01T22:02:47.356653Z",
          "iopub.status.busy": "2025-05-01T22:02:47.356435Z",
          "iopub.status.idle": "2025-05-01T22:02:47.367804Z",
          "shell.execute_reply": "2025-05-01T22:02:47.367172Z",
          "shell.execute_reply.started": "2025-05-01T22:02:47.356638Z"
        },
        "id": "AeYrxjjw4LPO",
        "trusted": true
      },
      "outputs": [],
      "source": [
        "# Sum of expected goals\n",
        "total_xg = played_df['xG'].sum()\n",
        "total_xga = played_df['xGA'].sum()\n",
        "\n",
        "# Compare actual vs expected\n",
        "overperformance_attack = total_goals_for - total_xg\n",
        "overperformance_defense = total_xga - total_goals_against\n",
        "\n",
        "# Display\n",
        "print(f\"Total xG (Expected Goals For): {total_xg:.2f}\")\n",
        "print(f\"Total xGA (Expected Goals Against): {total_xga:.2f}\")\n",
        "print(f\"Difference (Goals scored - xG): {overperformance_attack:.2f}\")\n",
        "print(f\"Difference (xGA - Goals conceded): {overperformance_defense:.2f}\")"
      ]
    },
    {
      "cell_type": "code",
      "execution_count": null,
      "metadata": {
        "execution": {
          "iopub.execute_input": "2025-05-01T22:02:47.368736Z",
          "iopub.status.busy": "2025-05-01T22:02:47.368549Z",
          "iopub.status.idle": "2025-05-01T22:02:47.387919Z",
          "shell.execute_reply": "2025-05-01T22:02:47.387314Z",
          "shell.execute_reply.started": "2025-05-01T22:02:47.368715Z"
        },
        "id": "V4xjXRsw4LPO",
        "trusted": true
      },
      "outputs": [],
      "source": [
        "# Home matches\n",
        "home_df = played_df[played_df['venue'] == 'Home']\n",
        "# Away matches\n",
        "away_df = played_df[played_df['venue'] == 'Away']\n",
        "\n",
        "# Calculate stats\n",
        "def venue_stats(df):\n",
        "    wins = (df['Result'] == 'W').sum()\n",
        "    draws = (df['Result'] == 'D').sum()\n",
        "    losses = (df['Result'] == 'L').sum()\n",
        "    points = (wins * 3) + (draws)\n",
        "    goals_for = df['GF'].sum()\n",
        "    goals_against = df['GA'].sum()\n",
        "    matches = df.shape[0]\n",
        "    ppm = points / matches if matches else 0\n",
        "    return wins, draws, losses, points, goals_for, goals_against, ppm\n",
        "\n",
        "home_stats = venue_stats(home_df)\n",
        "away_stats = venue_stats(away_df)\n",
        "\n",
        "# Print\n",
        "print(\"🏟️ Home Stats:\")\n",
        "print(f\"Wins: {home_stats[0]}, Draws: {home_stats[1]}, Losses: {home_stats[2]}\")\n",
        "print(f\"Goals For: {home_stats[4]}, Goals Against: {home_stats[5]}\")\n",
        "print(f\"Points: {home_stats[3]}, Points per Match: {home_stats[6]:.2f}\")\n",
        "\n",
        "print(\"\\n🛫 Away Stats:\")\n",
        "print(f\"Wins: {away_stats[0]}, Draws: {away_stats[1]}, Losses: {away_stats[2]}\")\n",
        "print(f\"Goals For: {away_stats[4]}, Goals Against: {away_stats[5]}\")\n",
        "print(f\"Points: {away_stats[3]}, Points per Match: {away_stats[6]:.2f}\")"
      ]
    },
    {
      "cell_type": "code",
      "execution_count": null,
      "metadata": {
        "execution": {
          "iopub.execute_input": "2025-05-01T22:02:47.389142Z",
          "iopub.status.busy": "2025-05-01T22:02:47.388668Z",
          "iopub.status.idle": "2025-05-01T22:02:48.325067Z",
          "shell.execute_reply": "2025-05-01T22:02:48.324393Z",
          "shell.execute_reply.started": "2025-05-01T22:02:47.389117Z"
        },
        "id": "xfjU4Qhg4LPP",
        "trusted": true
      },
      "outputs": [],
      "source": [
        "import matplotlib.pyplot as plt\n",
        "\n",
        "# Rolling Points per Match\n",
        "df['Rolling_Points'] = df['Points'].rolling(window=5, min_periods=1).mean()\n",
        "plt.figure(figsize=(12, 6))\n",
        "plt.plot(df['Date'], df['Rolling_Points'], marker='o', label='Rolling Points per Match (5 Games)')\n",
        "plt.axhline(2, color='red', linestyle='--', label='2 Points Threshold')\n",
        "plt.title('Rolling Points per Match (Last 5 Games)')\n",
        "plt.xlabel('Date')\n",
        "plt.ylabel('Points per Match')\n",
        "plt.legend()\n",
        "plt.grid(True)\n",
        "plt.xticks(rotation=45)\n",
        "plt.tight_layout()\n",
        "#plt.savefig('rolling_points_per_match.png', dpi=300, bbox_inches='tight')  # <<< Save here\n",
        "plt.show()\n",
        "\n",
        "# Rolling GF vs GA\n",
        "df['Rolling_GF'] = df['GF'].rolling(window=5, min_periods=1).mean()\n",
        "df['Rolling_GA'] = df['GA'].rolling(window=5, min_periods=1).mean()\n",
        "plt.figure(figsize=(12, 6))\n",
        "plt.plot(df['Date'], df['Rolling_GF'], label='Rolling GF (Goals For)', color='green')\n",
        "plt.plot(df['Date'], df['Rolling_GA'], label='Rolling GA (Goals Against)', color='red')\n",
        "plt.title('Rolling Goals For and Against (Last 5 Games)')\n",
        "plt.xlabel('Date')\n",
        "plt.ylabel('Goals')\n",
        "plt.legend()\n",
        "plt.grid(True)\n",
        "plt.xticks(rotation=45)\n",
        "plt.tight_layout()\n",
        "#plt.savefig('rolling_goals_for_against.png', dpi=300, bbox_inches='tight')  # <<< Save here\n",
        "plt.show()\n",
        "\n",
        "# Rolling xG vs xGA\n",
        "df['Rolling_xG'] = df['xG'].rolling(window=5, min_periods=1).mean()\n",
        "df['Rolling_xGA'] = df['xGA'].rolling(window=5, min_periods=1).mean()\n",
        "plt.figure(figsize=(12, 6))\n",
        "plt.plot(df['Date'], df['Rolling_xG'], label='Rolling xG (Expected Goals For)', color='purple')\n",
        "plt.plot(df['Date'], df['Rolling_xGA'], label='Rolling xGA (Expected Goals Against)', color='orange')\n",
        "plt.title('Rolling xG and xGA (Last 5 Games)')\n",
        "plt.xlabel('Date')\n",
        "plt.ylabel('Expected Goals')\n",
        "plt.legend()\n",
        "plt.grid(True)\n",
        "plt.xticks(rotation=45)\n",
        "plt.tight_layout()\n",
        "#plt.savefig('rolling_xg_xga.png', dpi=300, bbox_inches='tight')  # <<< Save here\n",
        "plt.show()"
      ]
    },
    {
      "cell_type": "markdown",
      "metadata": {
        "id": "y2olUaOo4LPP"
      },
      "source": [
        "# Machine Learning Model"
      ]
    },
    {
      "cell_type": "code",
      "execution_count": 21,
      "metadata": {
        "execution": {
          "iopub.execute_input": "2025-05-01T22:02:48.326025Z",
          "iopub.status.busy": "2025-05-01T22:02:48.3258Z",
          "iopub.status.idle": "2025-05-01T22:02:48.357491Z",
          "shell.execute_reply": "2025-05-01T22:02:48.356907Z",
          "shell.execute_reply.started": "2025-05-01T22:02:48.326008Z"
        },
        "id": "vee6zu9t4LPP",
        "trusted": true
      },
      "outputs": [
        {
          "ename": "NameError",
          "evalue": "name 'df' is not defined",
          "output_type": "error",
          "traceback": [
            "\u001b[31m---------------------------------------------------------------------------\u001b[39m",
            "\u001b[31mNameError\u001b[39m                                 Traceback (most recent call last)",
            "\u001b[36mCell\u001b[39m\u001b[36m \u001b[39m\u001b[32mIn[21]\u001b[39m\u001b[32m, line 2\u001b[39m\n\u001b[32m      1\u001b[39m \u001b[38;5;66;03m# Create lag features\u001b[39;00m\n\u001b[32m----> \u001b[39m\u001b[32m2\u001b[39m df[\u001b[33m'\u001b[39m\u001b[33mLag_GF\u001b[39m\u001b[33m'\u001b[39m] = \u001b[43mdf\u001b[49m[\u001b[33m'\u001b[39m\u001b[33mGF\u001b[39m\u001b[33m'\u001b[39m].shift(\u001b[32m1\u001b[39m)\n\u001b[32m      3\u001b[39m df[\u001b[33m'\u001b[39m\u001b[33mLag_GA\u001b[39m\u001b[33m'\u001b[39m] = df[\u001b[33m'\u001b[39m\u001b[33mGA\u001b[39m\u001b[33m'\u001b[39m].shift(\u001b[32m1\u001b[39m)\n\u001b[32m      4\u001b[39m df[\u001b[33m'\u001b[39m\u001b[33mLag_xG\u001b[39m\u001b[33m'\u001b[39m] = df[\u001b[33m'\u001b[39m\u001b[33mxG\u001b[39m\u001b[33m'\u001b[39m].shift(\u001b[32m1\u001b[39m)\n",
            "\u001b[31mNameError\u001b[39m: name 'df' is not defined"
          ]
        }
      ],
      "source": [
        "# Create lag features\n",
        "df['Lag_GF'] = df['GF'].shift(1)\n",
        "df['Lag_GA'] = df['GA'].shift(1)\n",
        "df['Lag_xG'] = df['xG'].shift(1)\n",
        "df['Lag_xGA'] = df['xGA'].shift(1)\n",
        "df['Lag_Points'] = df['Points'].shift(1)\n",
        "df['Lag_Result'] = df['Result'].shift(1)\n",
        "\n",
        "# For moving averages over last 3 matches\n",
        "df['MA3_GF'] = df['GF'].rolling(window=3).mean()\n",
        "df['MA3_GA'] = df['GA'].rolling(window=3).mean()\n",
        "df['MA3_xG'] = df['xG'].rolling(window=3).mean()\n",
        "df['MA3_xGA'] = df['xGA'].rolling(window=3).mean()\n",
        "df['MA3_Points'] = df['Points'].rolling(window=3).mean()\n",
        "\n",
        "# View the new dataframe\n",
        "df.tail(10)"
      ]
    },
    {
      "cell_type": "code",
      "execution_count": null,
      "metadata": {
        "execution": {
          "iopub.execute_input": "2025-05-01T22:02:48.361261Z",
          "iopub.status.busy": "2025-05-01T22:02:48.361059Z",
          "iopub.status.idle": "2025-05-01T22:02:48.39551Z",
          "shell.execute_reply": "2025-05-01T22:02:48.395001Z",
          "shell.execute_reply.started": "2025-05-01T22:02:48.361245Z"
        },
        "id": "TZaBR6Bt4LPP",
        "trusted": true
      },
      "outputs": [],
      "source": [
        "# Rolling averages for last 5 matches\n",
        "df['MA5_GF'] = df['GF'].rolling(window=5).mean()\n",
        "df['MA5_GA'] = df['GA'].rolling(window=5).mean()\n",
        "df['MA5_xG'] = df['xG'].rolling(window=5).mean()\n",
        "df['MA5_xGA'] = df['xGA'].rolling(window=5).mean()\n",
        "df['MA5_Points'] = df['Points'].rolling(window=5).mean()\n",
        "\n",
        "# Goal difference in last match\n",
        "df['Lag_GD'] = df['Lag_GF'] - df['Lag_GA']\n",
        "\n",
        "# Home match encoding (1 = Home, 0 = Away)\n",
        "df['Is_Home'] = df['venue'].apply(lambda x: 1 if x == 'Home' else 0)\n",
        "\n",
        "def big_match_detector(row):\n",
        "    if 'Champions' in row['Comp']:\n",
        "        return 1\n",
        "    if 'Copa del Rey' in row['Comp'] and 'Final' in row['Round']:\n",
        "        return 1\n",
        "    if 'Supercopa' in row['Comp'] and 'Final' in row['Round']:\n",
        "        return 1\n",
        "    return 0\n",
        "\n",
        "# Apply the new function\n",
        "df['Is_Big_Match'] = df.apply(big_match_detector, axis=1)\n",
        "\n",
        "# Let's check the new columns\n",
        "df.tail(10)"
      ]
    },
    {
      "cell_type": "code",
      "execution_count": null,
      "metadata": {
        "execution": {
          "iopub.execute_input": "2025-05-01T22:02:48.396253Z",
          "iopub.status.busy": "2025-05-01T22:02:48.396095Z",
          "iopub.status.idle": "2025-05-01T22:02:48.410154Z",
          "shell.execute_reply": "2025-05-01T22:02:48.409443Z",
          "shell.execute_reply.started": "2025-05-01T22:02:48.39624Z"
        },
        "id": "yN-1wrJ14LPP",
        "trusted": true
      },
      "outputs": [],
      "source": [
        "# Drop columns except Captain and Formation\n",
        "drop_cols = ['Time', 'Day4', 'venue', 'GF', 'GA', 'Referee', 'Opp_Formation', 'Attendance', 'Points', 'Round']\n",
        "\n",
        "df_cleaned = df.drop(columns=drop_cols)\n",
        "\n",
        "# Show sample\n",
        "print(df_cleaned.head())"
      ]
    },
    {
      "cell_type": "code",
      "execution_count": null,
      "metadata": {
        "execution": {
          "iopub.execute_input": "2025-05-01T22:02:48.41111Z",
          "iopub.status.busy": "2025-05-01T22:02:48.410863Z",
          "iopub.status.idle": "2025-05-01T22:02:48.419558Z",
          "shell.execute_reply": "2025-05-01T22:02:48.418858Z",
          "shell.execute_reply.started": "2025-05-01T22:02:48.411085Z"
        },
        "id": "-HEAjhBa4LPP",
        "trusted": true
      },
      "outputs": [],
      "source": [
        "# Step 1: Drop matches with missing moving average features\n",
        "df_model = df_cleaned.dropna()\n",
        "\n",
        "# Step 2: Map 'Result' to numeric labels\n",
        "result_mapping = {'W': 2, 'D': 1, 'L': 0}\n",
        "df_model['Result_Label'] = df_model['Result'].map(result_mapping)\n",
        "\n",
        "# Quick check\n",
        "print(df_model[['Date', 'Result', 'Result_Label']].head())"
      ]
    },
    {
      "cell_type": "code",
      "execution_count": null,
      "metadata": {
        "execution": {
          "iopub.execute_input": "2025-05-01T22:02:48.420514Z",
          "iopub.status.busy": "2025-05-01T22:02:48.420269Z",
          "iopub.status.idle": "2025-05-01T22:02:48.433247Z",
          "shell.execute_reply": "2025-05-01T22:02:48.432731Z",
          "shell.execute_reply.started": "2025-05-01T22:02:48.420493Z"
        },
        "id": "bV-umqn94LPP",
        "trusted": true
      },
      "outputs": [],
      "source": [
        "# Step 1: Decide split index\n",
        "split_index = int(len(df_model) * 0.85)\n",
        "\n",
        "# Step 2: Create train and test sets\n",
        "train_data = df_model.iloc[:split_index]\n",
        "test_data = df_model.iloc[split_index:]\n",
        "\n",
        "# Step 3: Select feature columns\n",
        "feature_cols = [\n",
        "    'xG', 'xGA', 'Poss', 'GD',\n",
        "    'MA3_GF', 'MA3_GA', 'MA3_xG', 'MA3_xGA', 'MA3_Points',\n",
        "    'MA5_GF', 'MA5_GA', 'MA5_xG', 'MA5_xGA', 'MA5_Points',\n",
        "    'Lag_GD', 'Is_Home', 'Is_Big_Match'\n",
        "]\n",
        "\n",
        "# Inputs (X) and targets (y)\n",
        "X_train = train_data[feature_cols]\n",
        "y_train = train_data['Result_Label']\n",
        "\n",
        "X_test = test_data[feature_cols]\n",
        "y_test = test_data['Result_Label']\n",
        "\n",
        "# Check shapes\n",
        "print(f\"Train shape: {X_train.shape}\")\n",
        "print(f\"Test shape: {X_test.shape}\")"
      ]
    },
    {
      "cell_type": "code",
      "execution_count": null,
      "metadata": {
        "execution": {
          "iopub.execute_input": "2025-05-01T22:02:48.434177Z",
          "iopub.status.busy": "2025-05-01T22:02:48.433936Z",
          "iopub.status.idle": "2025-05-01T22:02:48.770346Z",
          "shell.execute_reply": "2025-05-01T22:02:48.769614Z",
          "shell.execute_reply.started": "2025-05-01T22:02:48.434161Z"
        },
        "id": "NPl1YdoD4LPP",
        "trusted": true
      },
      "outputs": [],
      "source": [
        "from sklearn.linear_model import LogisticRegression\n",
        "from sklearn.metrics import classification_report, confusion_matrix, accuracy_score\n",
        "from sklearn.preprocessing import StandardScaler\n",
        "import numpy as np\n",
        "\n",
        "# Step 1: Scale features\n",
        "scaler = StandardScaler()\n",
        "X_train_scaled = scaler.fit_transform(X_train)\n",
        "X_test_scaled = scaler.transform(X_test)\n",
        "\n",
        "# Step 2: Train the model\n",
        "model = LogisticRegression(multi_class='multinomial', solver='lbfgs', random_state=42)\n",
        "model.fit(X_train_scaled, y_train)\n",
        "\n",
        "# Step 3: Predict\n",
        "y_pred = model.predict(X_test_scaled)\n",
        "\n",
        "# Step 4: Evaluate\n",
        "print(\"Accuracy:\", accuracy_score(y_test, y_pred))\n",
        "\n",
        "# Detect the unique classes present\n",
        "unique_classes = np.unique(np.concatenate((y_test, y_pred)))\n",
        "\n",
        "# Mapping label numbers to names\n",
        "label_mapping = {0: \"Loss\", 1: \"Draw\", 2: \"Win\"}\n",
        "target_names = [label_mapping[i] for i in unique_classes]\n",
        "\n",
        "# Print classification report and confusion matrix\n",
        "print(\"\\nClassification Report:\\n\", classification_report(y_test, y_pred, target_names=target_names))\n",
        "print(\"\\nConfusion Matrix:\\n\", confusion_matrix(y_test, y_pred))"
      ]
    },
    {
      "cell_type": "markdown",
      "metadata": {
        "id": "yf6m_bDv4LPP"
      },
      "source": [
        "The model was evaluated on the test set and produced the following metrics:\n",
        "\t•\tAccuracy: 0.75\n",
        "This means the model correctly predicted 75% of the outcomes in the test set.\n",
        "\t•\tClassification Report:\n",
        "\t•\tWin Class:\n",
        "\t•\tPrecision: 1.00 → When the model predicted a “Win”, it was always correct.\n",
        "\t•\tRecall: 0.75 → It correctly identified 75% of the actual “Win” matches.\n",
        "\t•\tF1-score: 0.86 → A good balance between precision and recall.\n",
        "\t•\tLoss Class:\n",
        "\t•\tAll metrics are 0.00 because there were no actual “Loss” instances in the test data (support = 0), so this class was not represented.\n",
        "\n",
        "•\tConfusion Matrix:\n",
        "\n",
        "   •    First row (Actual “Loss”): 0 true positives, 0 false positives (not present in the test set).\n",
        "\t•\tSecond row (Actual “Win”): 3 true positives, 1 false negative — the model missed 1 “Win” case."
      ]
    },
    {
      "cell_type": "code",
      "execution_count": null,
      "metadata": {
        "execution": {
          "iopub.execute_input": "2025-05-01T22:02:48.77344Z",
          "iopub.status.busy": "2025-05-01T22:02:48.772317Z",
          "iopub.status.idle": "2025-05-01T22:02:49.057742Z",
          "shell.execute_reply": "2025-05-01T22:02:49.05713Z",
          "shell.execute_reply.started": "2025-05-01T22:02:48.773416Z"
        },
        "id": "F_2Z-NL14LPQ",
        "trusted": true
      },
      "outputs": [],
      "source": [
        "import pandas as pd\n",
        "import matplotlib.pyplot as plt\n",
        "\n",
        "# Make sure to define your `features` (i.e., X_train.columns)\n",
        "# If you previously had X_train as a DataFrame, restore feature names\n",
        "try:\n",
        "    feature_names = X_train.columns\n",
        "except:\n",
        "    # If X_train is a NumPy array now, define manually or load again\n",
        "    feature_names = [f'Feature_{i}' for i in range(X_train.shape[1])]\n",
        "\n",
        "# Step 1: Extract coefficients\n",
        "coefficients = model.coef_[0]  # Shape: (n_features,) for binary, or (n_classes, n_features) for multinomial\n",
        "\n",
        "# Step 2: Map to feature names\n",
        "importance_df = pd.DataFrame({\n",
        "    'Feature': feature_names,\n",
        "    'Coefficient': coefficients\n",
        "})\n",
        "\n",
        "# Step 3: Sort by absolute coefficient value\n",
        "importance_df['Abs_Coefficient'] = importance_df['Coefficient'].abs()\n",
        "importance_df = importance_df.sort_values(by='Abs_Coefficient', ascending=True)\n",
        "\n",
        "# Step 4: Plot\n",
        "plt.figure(figsize=(10, 8))\n",
        "plt.barh(importance_df['Feature'], importance_df['Coefficient'], color='steelblue')\n",
        "plt.axvline(0, color='black', linestyle='--')\n",
        "plt.title('Feature Importance (Logistic Regression Coefficients)')\n",
        "plt.xlabel('Coefficient Value')\n",
        "plt.tight_layout()\n",
        "#plt.savefig(\"feature_importance.png\")  # ✅ Save the plot\n",
        "plt.show()"
      ]
    },
    {
      "cell_type": "code",
      "execution_count": null,
      "metadata": {
        "execution": {
          "iopub.execute_input": "2025-05-01T22:02:49.058704Z",
          "iopub.status.busy": "2025-05-01T22:02:49.058466Z",
          "iopub.status.idle": "2025-05-01T22:03:09.360619Z",
          "shell.execute_reply": "2025-05-01T22:03:09.359919Z",
          "shell.execute_reply.started": "2025-05-01T22:02:49.058687Z"
        },
        "id": "W3EgI50l4LPQ",
        "trusted": true
      },
      "outputs": [],
      "source": [
        "# Step 0: Prepare X and y\n",
        "X = df_model.drop(columns=['Result_Label'])\n",
        "\n",
        "# Drop datetime columns\n",
        "datetime_cols = X.select_dtypes(include=['datetime64']).columns.tolist()\n",
        "X = X.drop(columns=datetime_cols)\n",
        "\n",
        "# One-hot encode all categorical columns\n",
        "X = pd.get_dummies(X)\n",
        "\n",
        "# Target\n",
        "y = df_model['Result_Label']\n",
        "\n",
        "# Train-test split\n",
        "from sklearn.model_selection import train_test_split\n",
        "X_train, X_test, y_train, y_test = train_test_split(X, y, test_size=0.2, random_state=42)\n",
        "\n",
        "# Scale numeric features\n",
        "from sklearn.preprocessing import StandardScaler\n",
        "scaler = StandardScaler()\n",
        "X_train_scaled = scaler.fit_transform(X_train)\n",
        "X_test_scaled = scaler.transform(X_test)\n",
        "\n",
        "# Train the model\n",
        "from sklearn.linear_model import LogisticRegression\n",
        "model = LogisticRegression(multi_class='multinomial', solver='lbfgs', random_state=42)\n",
        "model.fit(X_train_scaled, y_train)\n",
        "\n",
        "# Permutation importance\n",
        "from eli5.sklearn import PermutationImportance\n",
        "perm = PermutationImportance(model, random_state=42)\n",
        "perm.fit(X_test_scaled, y_test)\n",
        "\n",
        "# Show importance (in Jupyter notebook)\n",
        "import eli5\n",
        "eli5.show_weights(perm, feature_names=X.columns.tolist())"
      ]
    },
    {
      "cell_type": "code",
      "execution_count": null,
      "metadata": {
        "execution": {
          "iopub.execute_input": "2025-05-01T22:03:09.362212Z",
          "iopub.status.busy": "2025-05-01T22:03:09.361447Z",
          "iopub.status.idle": "2025-05-01T22:03:09.832562Z",
          "shell.execute_reply": "2025-05-01T22:03:09.831812Z",
          "shell.execute_reply.started": "2025-05-01T22:03:09.362191Z"
        },
        "id": "Lc2TQMnf4LPQ",
        "trusted": true
      },
      "outputs": [],
      "source": [
        "from sklearn.ensemble import RandomForestClassifier\n",
        "import pandas as pd\n",
        "import seaborn as sns\n",
        "import matplotlib.pyplot as plt\n",
        "\n",
        "# Train a random forest\n",
        "rf_model = RandomForestClassifier(random_state=42)\n",
        "rf_model.fit(X_train, y_train)\n",
        "\n",
        "# Get feature importances\n",
        "importances = rf_model.feature_importances_\n",
        "feat_imp_df = pd.DataFrame({'Feature': X.columns, 'Importance': importances})\n",
        "feat_imp_df = feat_imp_df.sort_values(by='Importance', ascending=False).head(20)\n",
        "\n",
        "# Plot\n",
        "plt.figure(figsize=(10, 6))\n",
        "sns.barplot(x='Importance', y='Feature', data=feat_imp_df, palette='viridis')\n",
        "plt.title(\"Top 20 Feature Importances (Random Forest)\")\n",
        "plt.tight_layout()\n",
        "#plt.savefig(\"feature_importance_rf.png\")\n",
        "plt.show()"
      ]
    },
    {
      "cell_type": "code",
      "execution_count": null,
      "metadata": {
        "execution": {
          "iopub.execute_input": "2025-05-01T22:03:09.833471Z",
          "iopub.status.busy": "2025-05-01T22:03:09.833285Z",
          "iopub.status.idle": "2025-05-01T22:03:09.85469Z",
          "shell.execute_reply": "2025-05-01T22:03:09.853853Z",
          "shell.execute_reply.started": "2025-05-01T22:03:09.833456Z"
        },
        "id": "kau9iPR54LPQ",
        "trusted": true
      },
      "outputs": [],
      "source": [
        "# Create basic features\n",
        "\n",
        "# Is_Home: 1 for Home, 0 for Away\n",
        "played_df['Is_Home'] = played_df['venue'].map({'Home': 1, 'Away': 0})\n",
        "upcoming_df['Is_Home'] = upcoming_df['venue'].map({'Home': 1, 'Away': 0})\n",
        "\n",
        "# Is_Big_Match: 1 for matches against strong opponents, 0 otherwise\n",
        "big_teams = ['Real Madrid', 'Atlético Madrid', 'Inter', 'Bayern', 'Monaco']\n",
        "played_df['Is_Big_Match'] = played_df['Opponent'].isin(big_teams).astype(int)\n",
        "upcoming_df['Is_Big_Match'] = upcoming_df['Opponent'].isin(big_teams).astype(int)\n",
        "\n",
        "# Rolling_Points: 5-match moving average of Points for played_df\n",
        "played_df['Rolling_Points'] = played_df['Points'].rolling(window=5, min_periods=1).mean()\n",
        "\n",
        "# For upcoming_df, use the last Rolling_Points from played_df\n",
        "upcoming_df['Rolling_Points'] = played_df['Rolling_Points'].iloc[-1]\n",
        "\n",
        "# Fill any NaN values (e.g., early rows in Rolling_Points)\n",
        "played_df.fillna(0, inplace=True)\n",
        "upcoming_df.fillna(0, inplace=True)\n",
        "\n",
        "# Verify new columns\n",
        "print(\"played_df columns:\", played_df.columns.tolist())\n",
        "print(\"upcoming_df columns:\", upcoming_df.columns.tolist())\n",
        "print(played_df[['Date', 'Opponent', 'Is_Home', 'Is_Big_Match', 'Rolling_Points']].head())\n",
        "print(upcoming_df[['Date', 'Opponent', 'Is_Home', 'Is_Big_Match', 'Rolling_Points']].head())"
      ]
    },
    {
      "cell_type": "code",
      "execution_count": null,
      "metadata": {
        "execution": {
          "iopub.execute_input": "2025-05-01T22:03:09.856147Z",
          "iopub.status.busy": "2025-05-01T22:03:09.855523Z",
          "iopub.status.idle": "2025-05-01T22:03:09.88123Z",
          "shell.execute_reply": "2025-05-01T22:03:09.880403Z",
          "shell.execute_reply.started": "2025-05-01T22:03:09.856123Z"
        },
        "id": "6C7i8HTO4LPQ",
        "trusted": true
      },
      "outputs": [],
      "source": [
        "# Add rolling and lagged features\n",
        "\n",
        "# 3-match rolling averages for played_df\n",
        "played_df['MA3_GF'] = played_df['GF'].rolling(window=3, min_periods=1).mean()\n",
        "played_df['MA3_Points'] = played_df['Points'].rolling(window=3, min_periods=1).mean()\n",
        "\n",
        "# Lagged feature: previous match's GF\n",
        "played_df['Lag_GF'] = played_df['GF'].shift(1)\n",
        "\n",
        "# For upcoming_df, use the last values from played_df\n",
        "last_played = played_df.iloc[-1]\n",
        "upcoming_df['MA3_GF'] = last_played['MA3_GF']\n",
        "upcoming_df['MA3_Points'] = last_played['MA3_Points']\n",
        "upcoming_df['Lag_GF'] = last_played['GF']  # Use last match's GF as Lag_GF\n",
        "\n",
        "# Fill NaN values (e.g., first row of Lag_GF in played_df)\n",
        "played_df.fillna(0, inplace=True)\n",
        "upcoming_df.fillna(0, inplace=True)\n",
        "\n",
        "# Verify new columns\n",
        "print(\"New played_df columns:\", played_df.columns.tolist())\n",
        "print(\"New upcoming_df columns:\", upcoming_df.columns.tolist())\n",
        "print(played_df[['Date', 'Opponent', 'MA3_GF', 'MA3_Points', 'Lag_GF']].head())\n",
        "print(upcoming_df[['Date', 'Opponent', 'MA3_GF', 'MA3_Points', 'Lag_GF']].head())"
      ]
    },
    {
      "cell_type": "code",
      "execution_count": null,
      "metadata": {
        "execution": {
          "iopub.execute_input": "2025-05-01T22:03:09.882961Z",
          "iopub.status.busy": "2025-05-01T22:03:09.882045Z",
          "iopub.status.idle": "2025-05-01T22:03:09.906552Z",
          "shell.execute_reply": "2025-05-01T22:03:09.905802Z",
          "shell.execute_reply.started": "2025-05-01T22:03:09.882927Z"
        },
        "id": "MgiyFj864LPQ",
        "trusted": true
      },
      "outputs": [],
      "source": [
        "# Add more rolling and lagged features\n",
        "\n",
        "# 3-match rolling averages for played_df\n",
        "played_df['MA3_xG'] = played_df['xG'].rolling(window=3, min_periods=1).mean()\n",
        "played_df['MA3_xGA'] = played_df['xGA'].rolling(window=3, min_periods=1).mean()\n",
        "\n",
        "# Lagged feature: previous match's xG\n",
        "played_df['Lag_xG'] = played_df['xG'].shift(1)\n",
        "\n",
        "# For upcoming_df, use the last values from played_df\n",
        "last_played = played_df.iloc[-1]\n",
        "upcoming_df['MA3_xG'] = last_played['MA3_xG']\n",
        "upcoming_df['MA3_xGA'] = last_played['MA3_xGA']\n",
        "upcoming_df['Lag_xG'] = last_played['xG']  # Use last match's xG as Lag_xG\n",
        "\n",
        "# Fill NaN values (e.g., first row of Lag_xG or rows with missing xG/xGA)\n",
        "played_df.fillna(0, inplace=True)\n",
        "upcoming_df.fillna(0, inplace=True)\n",
        "\n",
        "# Verify new columns\n",
        "print(\"Updated played_df columns:\", played_df.columns.tolist())\n",
        "print(\"Updated upcoming_df columns:\", upcoming_df.columns.tolist())\n",
        "print(played_df[['Date', 'Opponent', 'MA3_xG', 'MA3_xGA', 'Lag_xG']].head())\n",
        "print(upcoming_df[['Date', 'Opponent', 'MA3_xG', 'MA3_xGA', 'Lag_xG']].head())"
      ]
    },
    {
      "cell_type": "code",
      "execution_count": null,
      "metadata": {
        "execution": {
          "iopub.execute_input": "2025-05-01T22:03:09.907459Z",
          "iopub.status.busy": "2025-05-01T22:03:09.907256Z",
          "iopub.status.idle": "2025-05-01T22:03:09.956493Z",
          "shell.execute_reply": "2025-05-01T22:03:09.955854Z",
          "shell.execute_reply.started": "2025-05-01T22:03:09.907443Z"
        },
        "id": "Y0XRDDJr4LPQ",
        "trusted": true
      },
      "outputs": [],
      "source": [
        "# One-hot encode categorical variables: Opponent, Formation, Opp_Formation\n",
        "\n",
        "# Get unique categories from both played_df and upcoming_df to ensure consistency\n",
        "all_opponents = pd.concat([played_df['Opponent'], upcoming_df['Opponent']]).unique()\n",
        "all_formations = pd.concat([played_df['Formation'], upcoming_df['Formation']]).unique()\n",
        "all_opp_formations = pd.concat([played_df['Opp_Formation'], upcoming_df['Opp_Formation']]).unique()\n",
        "\n",
        "# One-hot encode with consistent categories\n",
        "played_df = pd.get_dummies(played_df, columns=['Opponent'], prefix='Opponent', dtype=int)\n",
        "upcoming_df = pd.get_dummies(upcoming_df, columns=['Opponent'], prefix='Opponent', dtype=int)\n",
        "\n",
        "played_df = pd.get_dummies(played_df, columns=['Formation'], prefix='Formation', dtype=int)\n",
        "upcoming_df = pd.get_dummies(upcoming_df, columns=['Formation'], prefix='Formation', dtype=int)\n",
        "\n",
        "played_df = pd.get_dummies(played_df, columns=['Opp_Formation'], prefix='Opp_Formation', dtype=int)\n",
        "upcoming_df = pd.get_dummies(upcoming_df, columns=['Opp_Formation'], prefix='Opp_Formation', dtype=int)\n",
        "\n",
        "# Align columns to ensure both DataFrames have the same dummy variables\n",
        "all_opponent_cols = [f'Opponent_{opp}' for opp in all_opponents]\n",
        "all_formation_cols = [f'Formation_{fmt}' for fmt in all_formations]\n",
        "all_opp_formation_cols = [f'Opp_Formation_{fmt}' for fmt in all_opp_formations]\n",
        "\n",
        "# Add missing columns with zeros\n",
        "for col in all_opponent_cols + all_formation_cols + all_opp_formation_cols:\n",
        "    if col not in played_df.columns:\n",
        "        played_df[col] = 0\n",
        "    if col not in upcoming_df.columns:\n",
        "        upcoming_df[col] = 0\n",
        "\n",
        "# Verify new columns\n",
        "print(\"Updated played_df columns:\", played_df.columns.tolist())\n",
        "print(\"Updated upcoming_df columns:\", upcoming_df.columns.tolist())\n",
        "print(played_df[['Date', 'Opponent_Valencia', 'Opponent_Inter', 'Formation_4-2-3-1', 'Opp_Formation_4-4-2']].head())\n",
        "print(upcoming_df[['Date', 'Opponent_Inter', 'Opponent_Real Madrid', 'Formation_4-2-3-1', 'Opp_Formation_4-4-2']].head())"
      ]
    },
    {
      "cell_type": "code",
      "execution_count": null,
      "metadata": {
        "execution": {
          "iopub.execute_input": "2025-05-01T22:03:09.957463Z",
          "iopub.status.busy": "2025-05-01T22:03:09.957247Z",
          "iopub.status.idle": "2025-05-01T22:03:09.973282Z",
          "shell.execute_reply": "2025-05-01T22:03:09.972557Z",
          "shell.execute_reply.started": "2025-05-01T22:03:09.957446Z"
        },
        "id": "9bRQUmhd4LPQ",
        "trusted": true
      },
      "outputs": [],
      "source": [
        "# Add remaining rolling and lagged features\n",
        "\n",
        "# 5-match rolling averages for played_df\n",
        "played_df['MA5_GF'] = played_df['GF'].rolling(window=5, min_periods=1).mean()\n",
        "played_df['MA5_GA'] = played_df['GA'].rolling(window=5, min_periods=1).mean()\n",
        "\n",
        "# Lagged feature: previous match's GD\n",
        "played_df['Lag_GD'] = played_df['GD'].shift(1)\n",
        "\n",
        "# For upcoming_df, use the last values from played_df\n",
        "last_played = played_df.iloc[-1]\n",
        "upcoming_df['MA5_GF'] = last_played['MA5_GF']\n",
        "upcoming_df['MA5_GA'] = last_played['MA5_GA']\n",
        "upcoming_df['Lag_GD'] = last_played['GD']  # Use last match's GD as Lag_GD\n",
        "\n",
        "# Fill NaN values (e.g., first row of Lag_GD)\n",
        "played_df.fillna(0, inplace=True)\n",
        "upcoming_df.fillna(0, inplace=True)\n",
        "\n",
        "# Verify new columns\n",
        "print(\"Final played_df columns:\", played_df.columns.tolist())\n",
        "print(\"Final upcoming_df columns:\", upcoming_df.columns.tolist())\n",
        "print(played_df[['Date', 'Opponent_Valencia', 'MA5_GF', 'MA5_GA', 'Lag_GD']].head())\n",
        "print(upcoming_df[['Date', 'Opponent_Inter', 'MA5_GF', 'MA5_GA', 'Lag_GD']].head())"
      ]
    },
    {
      "cell_type": "code",
      "execution_count": null,
      "metadata": {
        "execution": {
          "iopub.execute_input": "2025-05-01T22:03:09.974354Z",
          "iopub.status.busy": "2025-05-01T22:03:09.974065Z",
          "iopub.status.idle": "2025-05-01T22:03:10.272175Z",
          "shell.execute_reply": "2025-05-01T22:03:10.271216Z",
          "shell.execute_reply.started": "2025-05-01T22:03:09.974336Z"
        },
        "id": "fXwepJ1B4LPR",
        "trusted": true
      },
      "outputs": [],
      "source": [
        "import matplotlib.pyplot as plt\n",
        "\n",
        "# Plot MA3_GF, MA3_xG, and Points over time\n",
        "plt.figure(figsize=(10, 6))\n",
        "plt.plot(played_df['Date'], played_df['MA3_GF'], label='MA3_GF (3-match avg Goals For)', color='blue')\n",
        "plt.plot(played_df['Date'], played_df['MA3_xG'], label='MA3_xG (3-match avg Expected Goals)', color='green')\n",
        "plt.plot(played_df['Date'], played_df['Points'], label='Points', color='red', alpha=0.5)\n",
        "plt.xlabel('Date')\n",
        "plt.ylabel('Value')\n",
        "plt.title('Barcelona Performance Trends (2024-2025 Season)')\n",
        "plt.legend()\n",
        "plt.grid(True)\n",
        "plt.xticks(rotation=45)\n",
        "plt.tight_layout()\n",
        "#plt.savefig(\"Barcelona Performance Trend.png\")\n",
        "plt.show()"
      ]
    },
    {
      "cell_type": "code",
      "execution_count": null,
      "metadata": {
        "execution": {
          "iopub.execute_input": "2025-05-01T22:03:10.273407Z",
          "iopub.status.busy": "2025-05-01T22:03:10.273055Z",
          "iopub.status.idle": "2025-05-01T22:03:10.450738Z",
          "shell.execute_reply": "2025-05-01T22:03:10.450093Z",
          "shell.execute_reply.started": "2025-05-01T22:03:10.273378Z"
        },
        "id": "_H6ADWsa4LPR",
        "trusted": true
      },
      "outputs": [],
      "source": [
        "import xgboost as xgb\n",
        "from sklearn.model_selection import train_test_split\n",
        "from sklearn.metrics import mean_absolute_error\n",
        "\n",
        "# Select features for modeling (exclude non-predictive and sparse columns)\n",
        "features = ['Is_Home', 'Is_Big_Match', 'Rolling_Points', 'MA3_GF', 'MA3_Points', 'Lag_GF',\n",
        "            'MA3_xG', 'MA3_xGA', 'Lag_xG', 'MA5_GF', 'MA5_GA', 'Lag_GD'] + \\\n",
        "           [col for col in played_df.columns if col.startswith('Opponent_')]\n",
        "\n",
        "# Prepare data\n",
        "X = played_df[features]\n",
        "y = played_df['Points']\n",
        "X_upcoming = upcoming_df[features]  # Features for upcoming matches\n",
        "\n",
        "# Split data for training and testing\n",
        "X_train, X_test, y_train, y_test = train_test_split(X, y, test_size=0.2, random_state=42)\n",
        "\n",
        "# Train XGBoost model\n",
        "model = xgb.XGBRegressor(objective='reg:squarederror', n_estimators=100, random_state=42)\n",
        "model.fit(X_train, y_train)\n",
        "\n",
        "# Predict on test set and evaluate\n",
        "y_pred = model.predict(X_test)\n",
        "mae = mean_absolute_error(y_test, y_pred)\n",
        "print(f\"Mean Absolute Error on test set: {mae:.2f}\")\n",
        "\n",
        "# Predict Points for upcoming matches\n",
        "upcoming_preds = model.predict(X_upcoming)\n",
        "upcoming_df['Predicted_Points'] = upcoming_preds\n",
        "\n",
        "# Display predictions\n",
        "print(upcoming_df[['Date', 'Opponent_Inter', 'Opponent_Real Madrid', 'Predicted_Points']])"
      ]
    },
    {
      "cell_type": "code",
      "execution_count": null,
      "metadata": {
        "execution": {
          "iopub.execute_input": "2025-05-01T22:03:10.453305Z",
          "iopub.status.busy": "2025-05-01T22:03:10.451525Z",
          "iopub.status.idle": "2025-05-01T22:03:10.76179Z",
          "shell.execute_reply": "2025-05-01T22:03:10.761157Z",
          "shell.execute_reply.started": "2025-05-01T22:03:10.453281Z"
        },
        "id": "QSc3YKY84LPR",
        "trusted": true
      },
      "outputs": [],
      "source": [
        "import xgboost as xgb\n",
        "import matplotlib.pyplot as plt\n",
        "\n",
        "# Assuming the model from the previous step is still in memory\n",
        "# If not, re-run the model training (just the model part for brevity)\n",
        "features = ['Is_Home', 'Is_Big_Match', 'Rolling_Points', 'MA3_GF', 'MA3_Points', 'Lag_GF',\n",
        "            'MA3_xG', 'MA3_xGA', 'Lag_xG', 'MA5_GF', 'MA5_GA', 'Lag_GD'] + \\\n",
        "           [col for col in played_df.columns if col.startswith('Opponent_')]\n",
        "X = played_df[features]\n",
        "y = played_df['Result'].map({'W': 2, 'D': 1, 'L': 0})\n",
        "model = xgb.XGBClassifier(objective='multi:softmax', num_class=3, n_estimators=100, random_state=42)\n",
        "model.fit(X, y)\n",
        "\n",
        "# Plot feature importance\n",
        "plt.figure(figsize=(10, 6))\n",
        "xgb.plot_importance(model, max_num_features=10, importance_type='gain', title='Top 10 Feature Importance')\n",
        "plt.tight_layout()\n",
        "plt.show()\n",
        "\n",
        "# Print feature importance scores\n",
        "importances = model.feature_importances_\n",
        "feature_importance_df = pd.DataFrame({'Feature': features, 'Importance': importances})\n",
        "print(feature_importance_df.sort_values(by='Importance', ascending=False).head(10))"
      ]
    },
    {
      "cell_type": "code",
      "execution_count": null,
      "metadata": {
        "execution": {
          "iopub.execute_input": "2025-05-01T22:03:10.762948Z",
          "iopub.status.busy": "2025-05-01T22:03:10.76263Z",
          "iopub.status.idle": "2025-05-01T22:03:10.896887Z",
          "shell.execute_reply": "2025-05-01T22:03:10.895482Z",
          "shell.execute_reply.started": "2025-05-01T22:03:10.762921Z"
        },
        "id": "qMjw0Vqh4LPR",
        "trusted": true
      },
      "outputs": [],
      "source": [
        "import pandas as pd\n",
        "import xgboost as xgb\n",
        "from sklearn.model_selection import train_test_split\n",
        "from sklearn.metrics import accuracy_score\n",
        "\n",
        "# Reload the original dataset to get Formation and Opp_Formation\n",
        "df = pd.read_csv('/kaggle/input/2024-2025-barcelona-scores-and-fixtures/Barcelona stats24-25.csv', delimiter=';')\n",
        "df.columns = df.columns.str.strip().str.replace(' ', '').str.replace('Oponent', 'Opponent')\n",
        "\n",
        "# Merge Formation and Opp_Formation back into played_df and upcoming_df\n",
        "played_df['Formation'] = df[df['Result'].notna()]['Formation'].values\n",
        "played_df['Opp_Formation'] = df[df['Result'].notna()]['Opp_Formation'].values\n",
        "upcoming_df['Formation'] = df[df['Result'].isna()]['Formation'].values\n",
        "upcoming_df['Opp_Formation'] = df[df['Result'].isna()]['Opp_Formation'].values\n",
        "\n",
        "# Impute missing Formation and Opp_Formation in upcoming_df with most common values from played_df\n",
        "most_common_formation = played_df['Formation'].mode()[0]\n",
        "most_common_opp_formation = played_df['Opp_Formation'].mode()[0]\n",
        "upcoming_df['Formation'] = upcoming_df['Formation'].fillna(most_common_formation)\n",
        "upcoming_df['Opp_Formation'] = upcoming_df['Opp_Formation'].fillna(most_common_opp_formation)\n",
        "\n",
        "# Drop existing encoded Formation_* and Opp_Formation_* columns\n",
        "formation_cols = [col for col in played_df.columns if col.startswith('Formation_')]\n",
        "opp_formation_cols = [col for col in played_df.columns if col.startswith('Opp_Formation_')]\n",
        "played_df = played_df.drop(columns=formation_cols + opp_formation_cols)\n",
        "upcoming_df = upcoming_df.drop(columns=formation_cols + opp_formation_cols)\n",
        "\n",
        "# Re-encode Formation and Opp_Formation\n",
        "all_formations = pd.concat([played_df['Formation'], upcoming_df['Formation']]).unique()\n",
        "all_opp_formations = pd.concat([played_df['Opp_Formation'], upcoming_df['Opp_Formation']]).unique()\n",
        "played_df = pd.get_dummies(played_df, columns=['Formation', 'Opp_Formation'], prefix=['Formation', 'Opp_Formation'], dtype=int)\n",
        "upcoming_df = pd.get_dummies(upcoming_df, columns=['Formation', 'Opp_Formation'], prefix=['Formation', 'Opp_Formation'], dtype=int)\n",
        "\n",
        "# Align columns\n",
        "all_formation_cols = [f'Formation_{fmt}' for fmt in all_formations]\n",
        "all_opp_formation_cols = [f'Opp_Formation_{fmt}' for fmt in all_opp_formations]\n",
        "for col in all_formation_cols + all_opp_formation_cols:\n",
        "    if col not in played_df.columns:\n",
        "        played_df[col] = 0\n",
        "    if col not in upcoming_df.columns:\n",
        "        upcoming_df[col] = 0\n",
        "\n",
        "# Select features (now including Formation_* and Opp_Formation_*)\n",
        "features = ['Is_Home', 'Is_Big_Match', 'Rolling_Points', 'MA3_GF', 'MA3_Points', 'Lag_GF',\n",
        "            'MA3_xG', 'MA3_xGA', 'Lag_xG', 'MA5_GF', 'MA5_GA', 'Lag_GD'] + \\\n",
        "           [col for col in played_df.columns if col.startswith('Opponent_')] + \\\n",
        "           [col for col in played_df.columns if col.startswith('Formation_')] + \\\n",
        "           [col for col in played_df.columns if col.startswith('Opp_Formation_')]\n",
        "\n",
        "# Prepare data\n",
        "X = played_df[features]\n",
        "y = played_df['Result'].map({'W': 2, 'D': 1, 'L': 0})\n",
        "X_upcoming = upcoming_df[features]\n",
        "\n",
        "# Split data and train model\n",
        "X_train, X_test, y_train, y_test = train_test_split(X, y, test_size=0.2, random_state=42)\n",
        "model = xgb.XGBClassifier(objective='multi:softmax', num_class=3, n_estimators=100, random_state=42)\n",
        "model.fit(X_train, y_train)\n",
        "\n",
        "# Evaluate model\n",
        "y_pred = model.predict(X_test)\n",
        "accuracy = accuracy_score(y_test, y_pred)\n",
        "print(f\"Accuracy on test set: {accuracy:.2f}\")\n",
        "\n",
        "# Predict Result for upcoming matches\n",
        "reverse_map = {2: 'W', 1: 'D', 0: 'L'}\n",
        "upcoming_preds = model.predict(X_upcoming)\n",
        "upcoming_df['Predicted_Result'] = [reverse_map[pred] for pred in upcoming_preds]\n",
        "\n",
        "# Display predictions\n",
        "print(upcoming_df[['Date', 'Opponent_Inter', 'Opponent_Real Madrid', 'Predicted_Result']])"
      ]
    },
    {
      "cell_type": "code",
      "execution_count": null,
      "metadata": {
        "execution": {
          "iopub.execute_input": "2025-05-01T22:03:10.897722Z",
          "iopub.status.busy": "2025-05-01T22:03:10.897487Z",
          "iopub.status.idle": "2025-05-01T22:03:11.177278Z",
          "shell.execute_reply": "2025-05-01T22:03:11.17672Z",
          "shell.execute_reply.started": "2025-05-01T22:03:10.897702Z"
        },
        "id": "-VpOFivs4LPR",
        "trusted": true
      },
      "outputs": [],
      "source": [
        "import xgboost as xgb\n",
        "from sklearn.model_selection import train_test_split\n",
        "from sklearn.metrics import accuracy_score, confusion_matrix\n",
        "import seaborn as sns\n",
        "import matplotlib.pyplot as plt\n",
        "\n",
        "# Select features (same as before, including Formation_* and Opp_Formation_*)\n",
        "features = ['Is_Home', 'Is_Big_Match', 'Rolling_Points', 'MA3_GF', 'MA3_Points', 'Lag_GF',\n",
        "            'MA3_xG', 'MA3_xGA', 'Lag_xG', 'MA5_GF', 'MA5_GA', 'Lag_GD'] + \\\n",
        "           [col for col in played_df.columns if col.startswith('Opponent_')] + \\\n",
        "           [col for col in played_df.columns if col.startswith('Formation_')] + \\\n",
        "           [col for col in played_df.columns if col.startswith('Opp_Formation_')]\n",
        "\n",
        "# Prepare data\n",
        "X = played_df[features]\n",
        "y = played_df['Result'].map({'W': 2, 'D': 1, 'L': 0})\n",
        "X_upcoming = upcoming_df[features]\n",
        "\n",
        "# Calculate class weights to handle imbalance (W: 40, D: 6, L: 7)\n",
        "class_counts = played_df['Result'].value_counts()\n",
        "scale_pos_weight = {2: 1.0, 1: class_counts['W'] / class_counts['D'], 0: class_counts['W'] / class_counts['L']}\n",
        "\n",
        "# Split data\n",
        "X_train, X_test, y_train, y_test = train_test_split(X, y, test_size=0.2, random_state=42)\n",
        "\n",
        "# Train tuned XGBoost classifier\n",
        "model = xgb.XGBClassifier(\n",
        "    objective='multi:softmax',\n",
        "    num_class=3,\n",
        "    n_estimators=100,\n",
        "    max_depth=3,  # Shallower trees to prevent overfitting\n",
        "    learning_rate=0.05,  # Slower learning for better convergence\n",
        "    scale_pos_weight=[scale_pos_weight[label] for label in y_train],  # Weight minority classes\n",
        "    random_state=42\n",
        ")\n",
        "model.fit(X_train, y_train)\n",
        "\n",
        "# Evaluate model\n",
        "y_pred = model.predict(X_test)\n",
        "accuracy = accuracy_score(y_test, y_pred)\n",
        "print(f\"Accuracy on test set: {accuracy:.2f}\")\n",
        "\n",
        "# Confusion matrix\n",
        "cm = confusion_matrix(y_test, y_pred, labels=[0, 1, 2])\n",
        "plt.figure(figsize=(6, 4))\n",
        "sns.heatmap(cm, annot=True, fmt='d', cmap='Blues', xticklabels=['L', 'D', 'W'], yticklabels=['L', 'D', 'W'])\n",
        "plt.xlabel('Predicted')\n",
        "plt.ylabel('Actual')\n",
        "plt.title('Confusion Matrix')\n",
        "plt.show()\n",
        "\n",
        "# Predict Result for upcoming matches\n",
        "upcoming_preds = model.predict(X_upcoming)\n",
        "reverse_map = {2: 'W', 1: 'D', 0: 'L'}\n",
        "upcoming_df['Predicted_Result'] = [reverse_map[pred] for pred in upcoming_preds]\n",
        "\n",
        "# Display predictions\n",
        "print(upcoming_df[['Date', 'Opponent_Inter', 'Opponent_Real Madrid', 'Predicted_Result']])"
      ]
    },
    {
      "cell_type": "code",
      "execution_count": null,
      "metadata": {
        "execution": {
          "iopub.execute_input": "2025-05-01T22:03:11.177933Z",
          "iopub.status.busy": "2025-05-01T22:03:11.177757Z",
          "iopub.status.idle": "2025-05-01T22:03:11.18508Z",
          "shell.execute_reply": "2025-05-01T22:03:11.184583Z",
          "shell.execute_reply.started": "2025-05-01T22:03:11.177918Z"
        },
        "id": "rOdXnzPm4LPW",
        "trusted": true
      },
      "outputs": [],
      "source": [
        "print(df.columns)  # Show columns in original dataset\n",
        "print(df[df['Result'].isna()].shape)  # Shape of upcoming matches\n",
        "print(upcoming_df.shape)  # Shape of upcoming_df"
      ]
    },
    {
      "cell_type": "code",
      "execution_count": null,
      "metadata": {
        "execution": {
          "iopub.execute_input": "2025-05-01T22:03:11.185652Z",
          "iopub.status.busy": "2025-05-01T22:03:11.185492Z",
          "iopub.status.idle": "2025-05-01T22:03:11.508816Z",
          "shell.execute_reply": "2025-05-01T22:03:11.50808Z",
          "shell.execute_reply.started": "2025-05-01T22:03:11.185639Z"
        },
        "id": "80SwDwVt4LPW",
        "trusted": true
      },
      "outputs": [],
      "source": [
        "import pandas as pd\n",
        "import matplotlib.pyplot as plt\n",
        "%matplotlib inline\n",
        "\n",
        "# Reload the original dataset\n",
        "df = pd.read_csv('/kaggle/input/2024-2025-barcelona-scores-and-fixtures/Barcelona stats24-25.csv', delimiter=';')\n",
        "df.columns = df.columns.str.strip().str.replace(' ', '').str.replace('Oponent', 'Opponent')\n",
        "\n",
        "# Create a copy of upcoming_df\n",
        "upcoming_df_fixed = upcoming_df.copy()\n",
        "\n",
        "# Assign Opponent with proper index alignment\n",
        "upcoming_opponents = df[df['Result'].isna()]['Opponent'].reset_index(drop=True)\n",
        "if len(upcoming_opponents) != len(upcoming_df_fixed):\n",
        "    raise ValueError(f\"Mismatch in row counts: {len(upcoming_opponents)} opponents vs {len(upcoming_df_fixed)} rows in upcoming_df\")\n",
        "upcoming_df_fixed['Opponent'] = upcoming_opponents\n",
        "\n",
        "# Verify assignment\n",
        "print(\"Upcoming opponents after assignment:\")\n",
        "print(upcoming_df_fixed[['Date', 'Opponent']])\n",
        "if upcoming_df_fixed['Opponent'].isna().any():\n",
        "    print(\"Warning: Some Opponent values are still NaN\")\n",
        "    print(upcoming_df_fixed[upcoming_df_fixed['Opponent'].isna()])\n",
        "\n",
        "# Get prediction probabilities\n",
        "features = ['Is_Home', 'Is_Big_Match', 'Rolling_Points', 'MA3_GF', 'MA3_Points', 'Lag_GF',\n",
        "            'MA3_xG', 'MA3_xGA', 'Lag_xG', 'MA5_GF', 'MA5_GA', 'Lag_GD'] + \\\n",
        "           [col for col in played_df.columns if col.startswith('Opponent_')] + \\\n",
        "           [col for col in played_df.columns if col.startswith('Formation_')] + \\\n",
        "           [col for col in played_df.columns if col.startswith('Opp_Formation_')]\n",
        "X_upcoming = upcoming_df_fixed[features]\n",
        "probs = model.predict_proba(X_upcoming)\n",
        "\n",
        "# Create probability DataFrame with aligned indices\n",
        "prob_df = pd.DataFrame(probs, columns=['P(L)', 'P(D)', 'P(W)'])\n",
        "prob_df['Date'] = upcoming_df_fixed['Date'].reset_index(drop=True)\n",
        "prob_df['Opponent'] = upcoming_df_fixed['Opponent'].reset_index(drop=True)\n",
        "\n",
        "# Apply custom thresholds\n",
        "def custom_predict(probs, threshold_d=0.05, threshold_l=0.05):\n",
        "    predictions = []\n",
        "    for p in probs:\n",
        "        if p[1] > threshold_d:  # P(D) > 0.05\n",
        "            predictions.append('D')\n",
        "        elif p[0] > threshold_l:  # P(L) > 0.05\n",
        "            predictions.append('L')\n",
        "        else:\n",
        "            predictions.append('W')\n",
        "    return predictions\n",
        "\n",
        "prob_df['Predicted_Result'] = custom_predict(probs)\n",
        "\n",
        "# Plot stacked bar chart\n",
        "plt.figure(figsize=(10, 6))\n",
        "prob_df[['P(L)', 'P(D)', 'P(W)']].plot(kind='bar', stacked=True, color=['red', 'yellow', 'green'], width=0.8)\n",
        "plt.xlabel('Date (Opponent)')\n",
        "plt.ylabel('Probability')\n",
        "plt.title('Prediction Probabilities for Upcoming Matches')\n",
        "plt.xticks(ticks=range(len(prob_df)), labels=[f\"{date} ({opp})\" for date, opp in zip(prob_df['Date'], prob_df['Opponent'])], rotation=45)\n",
        "plt.legend(title='Result')\n",
        "plt.tight_layout()\n",
        "plt.show()\n",
        "\n",
        "# Print results\n",
        "print(prob_df[['Date', 'Opponent', 'P(W)', 'P(D)', 'P(L)', 'Predicted_Result']])\n",
        "\n",
        "# Save to CSV\n",
        "prob_df[['Date', 'Opponent', 'P(W)', 'P(D)', 'P(L)', 'Predicted_Result']].to_csv('upcoming_predictions.csv', index=False)\n",
        "print(\"Saved predictions to 'upcoming_predictions.csv'\")"
      ]
    },
    {
      "cell_type": "code",
      "execution_count": null,
      "metadata": {
        "execution": {
          "iopub.execute_input": "2025-05-01T22:03:11.510191Z",
          "iopub.status.busy": "2025-05-01T22:03:11.509658Z",
          "iopub.status.idle": "2025-05-01T22:03:11.659576Z",
          "shell.execute_reply": "2025-05-01T22:03:11.658958Z",
          "shell.execute_reply.started": "2025-05-01T22:03:11.510162Z"
        },
        "id": "003805uj4LPW",
        "trusted": true
      },
      "outputs": [],
      "source": [
        "import seaborn as sns\n",
        "\n",
        "# Count each result type\n",
        "result_counts = prob_df['Predicted_Result'].value_counts().sort_index()  # L, D, W\n",
        "\n",
        "# Bar plot\n",
        "plt.figure(figsize=(6, 4))\n",
        "sns.barplot(x=result_counts.index, y=result_counts.values, palette={'W': 'green', 'D': 'gold', 'L': 'red'})\n",
        "plt.title('Barça Upcoming Match Predictions')\n",
        "plt.xlabel('Predicted Result')\n",
        "plt.ylabel('Number of Matches')\n",
        "plt.tight_layout()\n",
        "plt.show()"
      ]
    },
    {
      "cell_type": "code",
      "execution_count": null,
      "metadata": {
        "execution": {
          "iopub.execute_input": "2025-05-01T22:03:11.660693Z",
          "iopub.status.busy": "2025-05-01T22:03:11.660251Z",
          "iopub.status.idle": "2025-05-01T22:03:11.853379Z",
          "shell.execute_reply": "2025-05-01T22:03:11.852659Z",
          "shell.execute_reply.started": "2025-05-01T22:03:11.660671Z"
        },
        "id": "gGInyHqy4LPW",
        "trusted": true
      },
      "outputs": [],
      "source": [
        "# Get the list of all one-hot encoded formation columns\n",
        "formation_cols = [col for col in played_df.columns if col.startswith('Formation_')]\n",
        "\n",
        "# Reconstruct 'Formation' column from one-hot\n",
        "played_df['Formation'] = played_df[formation_cols].idxmax(axis=1).str.replace('Formation_', '')\n",
        "\n",
        "# Drop rows with missing 'Poss'\n",
        "formation_poss = played_df.dropna(subset=['Formation', 'Poss'])\n",
        "\n",
        "# Group and compute average possession\n",
        "formation_avg_poss = formation_poss.groupby('Formation')['Poss'].mean().sort_values(ascending=False)\n",
        "\n",
        "# Plot\n",
        "plt.figure(figsize=(10, 5))\n",
        "formation_avg_poss.plot(kind='bar', color='cornflowerblue')\n",
        "plt.title('📊 Average Possession by Formation')\n",
        "plt.ylabel('Average Possession (%)')\n",
        "plt.xlabel('Formation')\n",
        "plt.xticks(rotation=45)\n",
        "plt.tight_layout()\n",
        "#plt.savefig('average possession by formation')\n",
        "plt.show()"
      ]
    },
    {
      "cell_type": "code",
      "execution_count": null,
      "metadata": {
        "execution": {
          "iopub.execute_input": "2025-05-01T22:03:11.854313Z",
          "iopub.status.busy": "2025-05-01T22:03:11.85414Z",
          "iopub.status.idle": "2025-05-01T22:03:12.063573Z",
          "shell.execute_reply": "2025-05-01T22:03:12.062803Z",
          "shell.execute_reply.started": "2025-05-01T22:03:11.854299Z"
        },
        "id": "d6WH69H84LPW",
        "trusted": true
      },
      "outputs": [],
      "source": [
        "# Count of each formation\n",
        "formation_counts = df['Formation'].value_counts()\n",
        "\n",
        "plt.figure(figsize=(10, 5))\n",
        "formation_counts.plot(kind='bar', color='lightcoral')\n",
        "plt.title('📋 Number of Matches per Barcelona Formation')\n",
        "plt.ylabel('Match Count')\n",
        "plt.xlabel('Formation')\n",
        "plt.xticks(rotation=45)\n",
        "plt.tight_layout()\n",
        "#plt.savefig('barcelona_formation_frequency.png')\n",
        "plt.show()"
      ]
    },
    {
      "cell_type": "code",
      "execution_count": null,
      "metadata": {
        "execution": {
          "iopub.execute_input": "2025-05-01T22:03:12.064525Z",
          "iopub.status.busy": "2025-05-01T22:03:12.064312Z",
          "iopub.status.idle": "2025-05-01T22:03:12.279695Z",
          "shell.execute_reply": "2025-05-01T22:03:12.279023Z",
          "shell.execute_reply.started": "2025-05-01T22:03:12.064508Z"
        },
        "id": "QMHc3jVT4LPX",
        "trusted": true
      },
      "outputs": [],
      "source": [
        "# Drop rows where 'Captain' or 'Poss' is missing\n",
        "captain_poss = played_df.dropna(subset=['Captain', 'Poss'])\n",
        "\n",
        "# Group by captain and calculate average possession\n",
        "captain_avg_poss = captain_poss.groupby('Captain')['Poss'].mean().sort_values(ascending=False)\n",
        "\n",
        "# Plot\n",
        "plt.figure(figsize=(10, 5))\n",
        "captain_avg_poss.plot(kind='bar', color='mediumseagreen')\n",
        "plt.title('🎖️ Average Possession by Captain')\n",
        "plt.ylabel('Average Possession (%)')\n",
        "plt.xlabel('Captain')\n",
        "plt.xticks(rotation=45)\n",
        "plt.tight_layout()\n",
        "#plt.savefig('average possesion by captain')\n",
        "plt.show()"
      ]
    },
    {
      "cell_type": "code",
      "execution_count": null,
      "metadata": {
        "execution": {
          "iopub.execute_input": "2025-05-01T22:03:12.280764Z",
          "iopub.status.busy": "2025-05-01T22:03:12.280481Z",
          "iopub.status.idle": "2025-05-01T22:03:12.498073Z",
          "shell.execute_reply": "2025-05-01T22:03:12.496953Z",
          "shell.execute_reply.started": "2025-05-01T22:03:12.280738Z"
        },
        "id": "RQ84vAmu4LPX",
        "trusted": true
      },
      "outputs": [],
      "source": [
        "# Frequency of each captain\n",
        "captain_counts = played_df['Captain'].value_counts()\n",
        "\n",
        "# Plot frequency\n",
        "plt.figure(figsize=(10, 5))\n",
        "captain_counts.plot(kind='bar', color='cornflowerblue')\n",
        "plt.title('📅 Captain Appearance Frequency')\n",
        "plt.ylabel('Number of Matches')\n",
        "plt.xlabel('Captain')\n",
        "plt.xticks(rotation=45)\n",
        "plt.tight_layout()\n",
        "#plt.savefig('captain appearance frequency')\n",
        "plt.show()"
      ]
    },
    {
      "cell_type": "markdown",
      "metadata": {
        "id": "3u8u68IsVaee"
      },
      "source": [
        "![Alt text](https://akm-img-a-in.tosshub.com/indiatoday/images/story/202410/uefa-champions-league-242353235-16x9_0.jpg?VersionId=JgyXMVxHn2m_nnehxAegJsoxTauW.fsn&size=690:388)"
      ]
    },
    {
      "cell_type": "code",
      "execution_count": null,
      "metadata": {
        "execution": {
          "iopub.execute_input": "2025-05-01T22:03:12.499344Z",
          "iopub.status.busy": "2025-05-01T22:03:12.499091Z",
          "iopub.status.idle": "2025-05-01T22:03:12.864707Z",
          "shell.execute_reply": "2025-05-01T22:03:12.863793Z",
          "shell.execute_reply.started": "2025-05-01T22:03:12.499323Z"
        },
        "id": "GJAO6x1E4LPX",
        "trusted": true
      },
      "outputs": [],
      "source": [
        "# Group by captain: mean possession & count\n",
        "captain_stats = played_df.groupby('Captain')['Poss'].agg(['mean', 'count']).sort_values(by='count', ascending=False)\n",
        "\n",
        "# Plot\n",
        "fig, ax1 = plt.subplots(figsize=(12, 6))\n",
        "\n",
        "# Bar plot (left y-axis): Frequency of matches captained\n",
        "ax1.bar(captain_stats.index, captain_stats['count'], color='skyblue', label='Matches Captained')\n",
        "ax1.set_ylabel('Number of Matches', color='skyblue')\n",
        "ax1.tick_params(axis='y', labelcolor='skyblue')\n",
        "ax1.set_xticklabels(captain_stats.index, rotation=45)\n",
        "\n",
        "# Line plot (right y-axis): Average possession\n",
        "ax2 = ax1.twinx()\n",
        "ax2.plot(captain_stats.index, captain_stats['mean'], color='darkblue', marker='o', label='Avg Possession')\n",
        "ax2.set_ylabel('Average Possession (%)', color='darkblue')\n",
        "ax2.tick_params(axis='y', labelcolor='darkblue')\n",
        "\n",
        "# Titles and layout\n",
        "plt.title(\"Captain Performance: Matches Led vs Average Possession\")\n",
        "fig.tight_layout()\n",
        "#plt.savefig('captain performance:matches led vs avg poss')\n",
        "plt.show()"
      ]
    },
    {
      "cell_type": "markdown",
      "metadata": {
        "id": "7rUccAdt4LPX"
      },
      "source": [
        "# ✅ Conclusion\n",
        "\n",
        "This project successfully demonstrates the application of data science to football analytics by forecasting match outcomes for FC Barcelona’s 2024–2025 season under Hansi Flick. Using match statistics, tactical formations, captaincy, and engineered features, we built and evaluated a machine learning model that:\n",
        "\t•\tAchieved an accuracy of 75% on the test set (though on a small sample size).\n",
        "\t•\tIdentified the most likely results for upcoming matches with probability-based predictions.\n",
        "\t•\tHighlighted tactical trends — for example, formations like 4-2-3-1 were linked to most frequent possession, and captains like Ronald Araüjo showed leadership during high-possession games.\n",
        "\n",
        "The visualization of predicted outcomes using stacked bar plots offered intuitive insights into how confident the model is in each predicted result.\n",
        "\n",
        "### ⚠️ Limitations:\n",
        "\t•\tThe dataset is relatively small, especially for upcoming matches.\n",
        "\t•\tSome class imbalance exists (e.g., no losses in the test set).\n",
        "\t•\tReal-world football includes unpredictable events (injuries, red cards, morale), which are not captured here.\n",
        "\n",
        "### 🧭 Future Directions\n",
        "\t•\tIncorporate more granular player-level stats (e.g., passes completed, duels won).\n",
        "\t•\tUse ensemble models or time-series based predictors like LSTMs.\n",
        "\t•\tImprove data balance and extend analysis to multi-season comparisons.\n",
        "\n",
        "This project serves as a solid foundation for further exploration of how data-driven insights can inform football performance, tactics, and management decisions."
      ]
    },
    {
      "cell_type": "markdown",
      "metadata": {
        "id": "NgHFcepFVaef"
      },
      "source": [
        "![Alt text](https://images2.minutemediacdn.com/image/upload/c_crop,w_6000,h_3375,x_0,y_342/c_fill,w_1200,ar_4:3,f_auto,q_auto,g_auto/images/voltaxMediaLibrary/mmsport/si/01jmzbywbdrvse831jx5.jpg)"
      ]
    }
  ],
  "metadata": {
    "colab": {
      "name": "Barcelona 2024–2025 Performance Under Hansi Flick",
      "provenance": []
    },
    "kaggle": {
      "accelerator": "nvidiaTeslaT4",
      "dataSources": [
        {
          "datasetId": 7278706,
          "sourceId": 11604851,
          "sourceType": "datasetVersion"
        },
        {
          "datasetId": 7305934,
          "sourceId": 11642969,
          "sourceType": "datasetVersion"
        }
      ],
      "dockerImageVersionId": 31011,
      "isGpuEnabled": true,
      "isInternetEnabled": true,
      "language": "python",
      "sourceType": "notebook"
    },
    "kernelspec": {
      "display_name": "Python 3",
      "language": "python",
      "name": "python3"
    },
    "language_info": {
      "codemirror_mode": {
        "name": "ipython",
        "version": 3
      },
      "file_extension": ".py",
      "mimetype": "text/x-python",
      "name": "python",
      "nbconvert_exporter": "python",
      "pygments_lexer": "ipython3",
      "version": "3.13.3"
    }
  },
  "nbformat": 4,
  "nbformat_minor": 0
}
